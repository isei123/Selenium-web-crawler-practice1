{
 "cells": [
  {
   "cell_type": "code",
   "execution_count": 1,
   "id": "6efbce43",
   "metadata": {},
   "outputs": [
    {
     "name": "stderr",
     "output_type": "stream",
     "text": [
      "C:\\Users\\A0258\\anaconda3\\envs\\env_py3.7.6\\lib\\site-packages\\ipykernel_launcher.py:17: FutureWarning: Passing a negative integer is deprecated in version 1.0 and will not be supported in future version. Instead, use None to not limit the column width.\n",
      "  app.launch_new_instance()\n"
     ]
    }
   ],
   "source": [
    "import time\n",
    "import numpy as np\n",
    "import pandas as pd\n",
    "from selenium import webdriver\n",
    "from bs4 import BeautifulSoup as bs\n",
    "from fake_useragent import UserAgent\n",
    "from selenium.webdriver.common.by import By\n",
    "from selenium.webdriver.support.wait import WebDriverWait\n",
    "from selenium.webdriver.support import expected_conditions as EC\n",
    "import requests\n",
    "import json\n",
    "#goal\n",
    "#商家介紹,商家服務,商務中心價格,設備 \n",
    "#的表格\n",
    "#scrape data\n",
    "pd.set_option('max_rows', 10000)\n",
    "pd.set_option('display.max_colwidth', -1)"
   ]
  },
  {
   "cell_type": "code",
   "execution_count": 33,
   "id": "d8f9321f",
   "metadata": {},
   "outputs": [
    {
     "name": "stdout",
     "output_type": "stream",
     "text": [
      "done\n"
     ]
    },
    {
     "name": "stderr",
     "output_type": "stream",
     "text": [
      "C:\\Users\\A0258\\anaconda3\\envs\\env_py3.7.6\\lib\\site-packages\\ipykernel_launcher.py:42: VisibleDeprecationWarning: Creating an ndarray from ragged nested sequences (which is a list-or-tuple of lists-or-tuples-or ndarrays with different lengths or shapes) is deprecated. If you meant to do this, you must specify 'dtype=object' when creating the ndarray.\n"
     ]
    },
    {
     "name": "stdout",
     "output_type": "stream",
     "text": [
      "done\n",
      "done\n",
      "done\n",
      "done\n",
      "done\n"
     ]
    }
   ],
   "source": [
    "#without 優惠訊息\n",
    "url = ['https://ezstartup.cc/cospaceszez68.html','https://ezstartup.cc/cospacespcfcu7f2.html',\n",
    "      'https://ezstartup.cc/cospace8yngmv.html']\n",
    "\n",
    "total_info=[]\n",
    "\n",
    "for u in url:\n",
    "    print('done')\n",
    "    driver = webdriver.Chrome()\n",
    "\n",
    "    opt = webdriver.ChromeOptions()\n",
    "    user_agent = UserAgent()\n",
    "    opt.add_argument(\"--user-agent=%s\" % user_agent)\n",
    "    opt.add_argument(\"--headless\")  # 啟用 headless 模式\n",
    "    opt.add_argument(\"--disable-gpu\")  # 關閉 GPU \n",
    "    user_agent.random\n",
    "    driver.get(u)\n",
    "    time.sleep(2)\n",
    "\n",
    "    driver.execute_script(\"window.scrollTo(0,document.body.scrollHeight)\")\n",
    "    time.sleep(5)\n",
    "    #col-md-8\n",
    "    eles = driver.find_element(By.XPATH, '/html/body/main/div[4]/div[1]/div/div[2]')\n",
    "    eles1 = eles.find_elements(By.CLASS_NAME, 'row')\n",
    "\n",
    "    name=eles.find_element(By.XPATH, '/html/body/main/div[4]/div[1]/div/div[2]/header/h1').text\n",
    "\n",
    "    info = []\n",
    "    info.append(name)\n",
    "\n",
    "    for i in range(1,3):\n",
    "        ele = eles1[i].find_elements(By.CSS_SELECTOR, \"pre\")\n",
    "        for j in ele[:1]:\n",
    "            info.append(j.text.split('\\n'))\n",
    "\n",
    "    info.append(eles1[3].text.split('\\n'))\n",
    "\n",
    "    eles2 = eles.find_element(By.ID, 'equipmentDiv').find_elements(By.CLASS_NAME, 'row')\n",
    "    info.append(eles2[0].text.split('\\n'))\n",
    "\n",
    "    driver.quit()\n",
    "    total_info.append(np.array(info).reshape(1,5))\n",
    "    print('done')"
   ]
  },
  {
   "cell_type": "code",
   "execution_count": 34,
   "id": "da8ec09a",
   "metadata": {},
   "outputs": [
    {
     "name": "stderr",
     "output_type": "stream",
     "text": [
      "C:\\Users\\A0258\\anaconda3\\envs\\env_py3.7.6\\lib\\site-packages\\ipykernel_launcher.py:38: VisibleDeprecationWarning: Creating an ndarray from ragged nested sequences (which is a list-or-tuple of lists-or-tuples-or ndarrays with different lengths or shapes) is deprecated. If you meant to do this, you must specify 'dtype=object' when creating the ndarray.\n"
     ]
    },
    {
     "name": "stdout",
     "output_type": "stream",
     "text": [
      "done\n",
      "done\n"
     ]
    }
   ],
   "source": [
    "#with 優惠訊息\n",
    "url = ['https://ezstartup.cc/cospacesp6974gwc.html',\n",
    "      'https://ezstartup.cc/cospacee4ax5n.html']\n",
    "for u in url:\n",
    "    driver = webdriver.Chrome()\n",
    "\n",
    "    opt = webdriver.ChromeOptions()\n",
    "    user_agent = UserAgent()\n",
    "    opt.add_argument(\"--user-agent=%s\" % user_agent)\n",
    "    opt.add_argument(\"--headless\")  # 啟用 headless 模式\n",
    "    opt.add_argument(\"--disable-gpu\")  # 關閉 GPU \n",
    "    user_agent.random\n",
    "    driver.get(u)\n",
    "    time.sleep(2)\n",
    "\n",
    "    driver.execute_script(\"window.scrollTo(0,document.body.scrollHeight)\")\n",
    "    time.sleep(5)\n",
    "    #col-md-8\n",
    "    eles = driver.find_element(By.XPATH, '/html/body/main/div[4]/div[1]/div/div[2]')\n",
    "    eles1 = eles.find_elements(By.CLASS_NAME, 'row')\n",
    "\n",
    "    name=eles.find_element(By.XPATH, '/html/body/main/div[4]/div[1]/div/div[2]/header/h1').text\n",
    "\n",
    "    info = []\n",
    "    info.append(name)\n",
    "\n",
    "    for i in range(2,4):\n",
    "        ele = eles1[i].find_elements(By.CSS_SELECTOR, \"pre\")\n",
    "        for j in ele[:1]:\n",
    "            info.append(j.text.split('\\n'))\n",
    "\n",
    "    info.append(eles1[4].text.split('\\n'))\n",
    "\n",
    "    eles2 = eles.find_element(By.ID, 'equipmentDiv').find_elements(By.CLASS_NAME, 'row')\n",
    "    info.append(eles2[0].text.split('\\n'))\n",
    "\n",
    "    driver.quit()\n",
    "    total_info.append(np.array(info).reshape(1,5))\n",
    "    print('done')"
   ]
  },
  {
   "cell_type": "code",
   "execution_count": 35,
   "id": "5e82b19d",
   "metadata": {
    "scrolled": true
   },
   "outputs": [
    {
     "data": {
      "text/html": [
       "<div>\n",
       "<style scoped>\n",
       "    .dataframe tbody tr th:only-of-type {\n",
       "        vertical-align: middle;\n",
       "    }\n",
       "\n",
       "    .dataframe tbody tr th {\n",
       "        vertical-align: top;\n",
       "    }\n",
       "\n",
       "    .dataframe thead th {\n",
       "        text-align: right;\n",
       "    }\n",
       "</style>\n",
       "<table border=\"1\" class=\"dataframe\">\n",
       "  <thead>\n",
       "    <tr style=\"text-align: right;\">\n",
       "      <th></th>\n",
       "      <th>商家名稱</th>\n",
       "      <th>商家介紹</th>\n",
       "      <th>商家服務</th>\n",
       "      <th>商務中心價格</th>\n",
       "      <th>設備</th>\n",
       "    </tr>\n",
       "  </thead>\n",
       "  <tbody>\n",
       "    <tr>\n",
       "      <th>0</th>\n",
       "      <td>JustCo民生建國中心</td>\n",
       "      <td>[民生建國大樓坐落於台北市中山區的黃金地段，周邊公共交通便利，鄰近銀行、健身中心、咖啡廳和餐廳等現代化便利設施，生活及商業機能完善。JustCo民生建國中心位在A級辦公大樓與頂級國際商務酒店之共構大樓內，佔地近1800坪空間，共跨兩個樓層。中心內除了有可容納40人的會議室和多至150人的活動場地之外，同時也有提供會員使用的娛樂空間和籃球機。在空間設計上選用自然資源，在台北繁忙的都市生活中展現大自然的本質與元素。 ]</td>\n",
       "      <td>[JustCo提供彈性的會員方案，小至工商登記服務、共用辦公桌，大至客製化企業辦公室，能滿足個人工作者、新創團隊、中小企業和跨國企業對辦公空間的各種需求。JustCo舒適、寬敞的空間內同時提供各種大小的會議室和活動場地，適合公司行號舉辦各式會議、研討會、產品發佈會和社群活動。]</td>\n",
       "      <td>[商務中心價格, ➤ 借址登記, - 3,000+, ➤ 客製化辦公室, - 報價, ➤ 異地備援辦公, - 報價, ➤ 辦公室攝影棚, - 報價, ➤ 虛擬辦公室, - 3,500+, ➤ 10+人小型辦公室, - 60,000+, ➤ 6~10人小型辦公室, - 40,000+, ➤ 3+1人小型辦公室, - 30,000+, ➤ 1人共享辦公室, - 5,000+, ➤ 2人小型辦公室, - 20,000+]</td>\n",
       "      <td>[設備, WiFi, 辦公桌椅, 投影機, 影印機, 茶水間, 門禁管理, 置物櫃, 3D列印機, 語音秘書, 冰箱, 沙發, 白板, 麥克風, 總機系統, 書報雜誌, 電話, 掃描機]</td>\n",
       "    </tr>\n",
       "    <tr>\n",
       "      <th>1</th>\n",
       "      <td>JustCo宏泰中心</td>\n",
       "      <td>[JustCo宏泰金融大樓位於台北市松山區的黃金地段，周邊公共交通便利，鄰近銀行、健身中心、百貨公司、咖啡廳和餐廳等現代化便利設施，生活及商業機能完善。走進佔地廣達1700坪的宏泰金融大樓JustCo中心，迎面而來的是寬敞的兩層樓空間，可沿著充滿現代感的樓梯來去自如。本中心設有豪華氣派的社群公共區域，包含休息區、活動和娛樂空間，以及儲備豐富的食品儲藏室，所有會員都能自由使用。中心內部不僅擁有日光充沛、裝潢時尚的工作空間與會議室，還提供隱蔽的私人電話亭，完美地展現了舒適優質的辦公環境。此外，舒適且醒目的接待區、無可比擬的齊全設備，皆可讓會員在定期舉辦的精彩活動和網路會議中體驗美好交流時光，激發出創新靈感的火花。 ]</td>\n",
       "      <td>[JustCo提供彈性的會員方案，小至工商登記服務、共用辦公桌，大至客製化企業辦公室，能滿足個人工作者、新創團隊、中小企業和跨國企業對辦公空間的各種需求。JustCo舒適、寬敞的空間內同時提供各種大小的會議室和活動場地，適合公司行號舉辦各式會議、研討會、產品發佈會和社群活動。]</td>\n",
       "      <td>[商務中心價格, ➤ 借址登記, - 3,000+, ➤ 客製化辦公室, - 報價, ➤ 異地備援辦公, - 報價, ➤ 辦公室攝影棚, - 報價, ➤ 虛擬辦公室, - 3,500+, ➤ 10+人小型辦公室, - 60,000+, ➤ 6~10人小型辦公室, - 40,000+, ➤ 3+1人小型辦公室, - 30,000+, ➤ 1人共享辦公室, - 5,000+, ➤ 2人小型辦公室, - 20,000+]</td>\n",
       "      <td>[設備, WiFi, 辦公桌椅, 投影機, 影印機, 茶水間, 門禁管理, 置物櫃, 3D列印機, 語音秘書, 冰箱, 沙發, 白板, 麥克風, 總機系統, 書報雜誌, 電話, 掃描機]</td>\n",
       "    </tr>\n",
       "    <tr>\n",
       "      <th>2</th>\n",
       "      <td>安格斯國際商務中心</td>\n",
       "      <td>[2022年全新時尚裝潢，全新視覺享受, 安格斯國際商務中心, 千萬裝潢打造五星級商務辦公空間，寬敞舒適的空間規劃，是您的辦公室首選！, 1)  2-11人各種辦公空間需求一應俱全。, 2)  鄰近捷運南京復興及忠孝復興站，交通便利。, 3)  專屬OA辦公家具及高速Wi-Fi光纖網路，只需帶著筆電腦即可進駐辦公。, 4)  因應疫情發展裝設商用空氣清淨器，守護每一口呼吸的品質。, 5)  供應茶水、總機電話轉接、多功能事務區、信件包裹及快遞代收、24小時門禁管控。, 6)  周邊金融機構林立，鄰近微風百貨商圈，遼寧夜市商圈，生活機能超棒。, 看到這裡該手刀預約了吧！歡迎來電洽詢預約參觀↓, 聯絡人：李小姐, LINE ID：@418lbpys, 聯絡電話：(02)2771-6887, 地址：105台北市松山區復興北路1號10樓,  ]</td>\n",
       "      <td>[1)獨立辦公環境 : 提供2至11人多元房型，可依您需求自由選擇搭配。手續辦好帶著電腦，立馬擁有全新打造的超舒適辦公空間。, 2)借址登記:位於台北松山區，入駐馬上擁有台北黃金門牌。, 3)會議室:提供多種商務型會議室組合，適合8-50人等不同型態會議活動場地需求，會議室備有85吋 4K 顯示器、全球智能視訊解決方案組合、專業超高頻MIRPO無線麥克風、精品木箱喇叭、影機及屏幕、有線/無線網路、免費咖啡茶水供應。, 4)共享空間:窗邊美景放鬆區、長形開放工作檯、舒適沙發洽談區。, 5)交通方便:大樓安全警衛，方便24小時安心進出；樓上商務中心大門、廁所刷卡門禁，三重防護讓您辦公安全安心。, 6)貼心小服務:, 1.OA辦公室設備齊全, 2.專人環境清潔打掃暨定期消毒, 3.獨立感應磁卡門禁, 4.貼心茶水、咖啡機、會議室、報章雜誌, 5.提供多功能事務機, 6.中央空調系統、中華電信高速光纖上網, 7.親切給人溫暖的秘書服務]</td>\n",
       "      <td>[商務中心價格, ➤ 虛擬辦公室, (2500/月（含稅）), ➤ 2人小型辦公室, (請洽詢), ➤ 1人共享辦公室, (請洽詢), ➤ 3+1人小型辦公室, (請洽詢), ➤ 6~10人小型辦公室, (請洽詢), ➤ 10+人小型辦公室, (請洽詢)]</td>\n",
       "      <td>[設備, WiFi, 辦公桌椅, 投影機, 影印機, 茶水間, 門禁管理, 冰箱, 沙發, 麥克風, 總機系統, 書報雜誌, 電話, 掃描機]</td>\n",
       "    </tr>\n",
       "    <tr>\n",
       "      <th>3</th>\n",
       "      <td>巴菲特國際商務中心</td>\n",
       "      <td>[巴菲特國際商務中心 , 交通最便利, 地處全台交通核心台北車站前,高鐵台鐵台北轉運站,南來北往最方便, 捷運台北車站站前地下街Z8出口旁,桃園機場捷運步行3分鐘就到, 汽車停車場就在隔壁, 小吃餐飲銅板價、各家銀行及營業到21:00的北門郵局都是散步10分鐘範圍內, 人臉門禁系統最安全, 人臉辨識門禁管制,7天24小時安心進出,個人辦公室卡片感應門鎖,全天候中興保全全區保障,領先業界投保國泰產物保險公共意外責任險, 費用最實惠, 物超所值,空間最彈性,獨立小型辦公室 (2人 / 3人 / 4人 / 6人 / 8人),單人座位樣樣俱全,配合公司規模成長,彈性調整租用空間,專業會議室,適合舉辦各類會議, 專屬變頻空調, 獨立專屬冷暖變頻空調,自行設定最舒適的溫度。獨立智慧電表,電費用多少算多少,最實惠, 其他福利, 有線 / 無線高速網路, 現磨星巴克咖啡、茶包無限享用,貼心提供小茶點, 最新福利, 已經與台北喜來登大飯店、君品酒店、台北世民酒店、及旅樂序精品旅館簽訂企業方案,所有本中心客戶預約入住,皆可享有專案優惠,讓您的團隊成員和您的貴賓,都可以享受與國際級大型企業同樣等級的尊榮服務。, 歡迎預約參觀, 歡迎留言詢價,我們將立即回覆安排預約參觀!,  ]</td>\n",
       "      <td>[小型辦公室,  單人共享辦公室,  2~8人獨立辦公室, 工商登記、立即入主台北市, 黃金地址 郵件快遞代收代寄 (費用另計、實報實銷) ,  ========================= , 巴菲特國際商務中心 (台北車站前 商務中心首選), 台北市中正區忠孝西路一段72號2樓(請搭電梯上樓) , 02 2768** - 請找簡小姐 ]</td>\n",
       "      <td>[商務中心價格, ➤ 2人小型辦公室, (11,000起), ➤ 3+1人小型辦公室, (18,500起), ➤ 借址登記, (2,000起), ➤ 虛擬辦公室, (2,000起), ➤ 6~10人小型辦公室, (24,000起), ➤ 1人共享辦公室, (4,000起), ➤ 客製化辦公室, (視實際情形決定), ➤ 10+人小型辦公室, (視實際情形決定)]</td>\n",
       "      <td>[設備, WiFi, 辦公桌椅, 投影機, 影印機, 茶水間, 門禁管理, 置物櫃, 冰箱, 沙發, 白板, 書報雜誌, 電話, 掃描機]</td>\n",
       "    </tr>\n",
       "    <tr>\n",
       "      <th>4</th>\n",
       "      <td>Spaces台北宏盛IFC辦公空間</td>\n",
       "      <td>[Spaces創立於阿姆斯特丹，秉承以成功孕育更大成功之理念，我們為您提供獨具創業精神的創意工作環境，並與您一起重新定義工作方式。這就是為什麼我們的社區群組能聚集大量思想家、成功人士和富極具創意之士。汲取我們的商業能量，助您的事業蒸蒸日上。Spaces遍及全球超過400個地點，台灣更於台北及新竹設有3個服務地點。我們為你提供私人辦公室、共享辦公空間、會議室及虛擬辦公室等靈活辦公方案。, 一價全包辦公空間包含：商務級 WiFi、舒適的辦公室傢俱、前台、信件收發、後勤支持、茶水間、水電及清理、商務多功能印表機、掃描和影印機、會議室租用服務等。客戶更可享用全球Spaces超過400個商務俱樂部及Regus 3000 個商務貴賓室，於通勤時亦可在專業的環境辦公。, Spaces台灣官方帳號, Line ID: @spaces_workspace, Facebook: @spaces.taiwan, Instagram: @spacestaiwan, LinkedIn: @spaces-taiwan,  ]</td>\n",
       "      <td>[Spaces 宏盛 IFC 位於台北市中心，座落於中山區獲得綠建築認證的最新大樓，是全新且充滿活力的工作環境。無論您是在尋找辦公室空間、會議室，抑或一個邊為筆電充電邊工作的地方，您都會覺得如居家般舒適。我們的高速WiFi 能讓您快速且高效地工作，並可隨時加入匯集志同道合專業人士的社群。, Spaces宏盛 IFC提供私人辦公室、共享辦公空間、會議室及虛擬辦公室。中心橫跨三個樓層，一及二樓設有超大共享空間500平方米提供舒適工作體驗,由歐洲專業團隊設計以及配備歐洲進口傢俱，而我們親切及專業中心團隊更提供各項專業服務，具備中英日文語言能力。 ]</td>\n",
       "      <td>[商務中心價格, ➤ 借址登記, - 3,000+, ➤ 客製化辦公室, - 報價, ➤ 異地備援辦公, - 報價, ➤ 辦公室攝影棚, - 報價, ➤ 虛擬辦公室, - 3,500+, ➤ 10+人小型辦公室, - 60,000+, ➤ 6~10人小型辦公室, - 40,000+, ➤ 3+1人小型辦公室, - 30,000+, ➤ 1人共享辦公室, - 5,000+, ➤ 2人小型辦公室, - 20,000+]</td>\n",
       "      <td>[設備, WiFi, 辦公桌椅, 投影機, 影印機, 茶水間, 門禁管理, 置物櫃, 冰箱, 沙發, 白板, 麥克風, 總機系統, 書報雜誌, 電話, 掃描機]</td>\n",
       "    </tr>\n",
       "  </tbody>\n",
       "</table>\n",
       "</div>"
      ],
      "text/plain": [
       "                商家名稱  \\\n",
       "0  JustCo民生建國中心        \n",
       "1  JustCo宏泰中心          \n",
       "2  安格斯國際商務中心           \n",
       "3  巴菲特國際商務中心           \n",
       "4  Spaces台北宏盛IFC辦公空間   \n",
       "\n",
       "                                                                                                                                                                                                                                                                                                                                                                                                                                                                                                                                                       商家介紹  \\\n",
       "0  [民生建國大樓坐落於台北市中山區的黃金地段，周邊公共交通便利，鄰近銀行、健身中心、咖啡廳和餐廳等現代化便利設施，生活及商業機能完善。JustCo民生建國中心位在A級辦公大樓與頂級國際商務酒店之共構大樓內，佔地近1800坪空間，共跨兩個樓層。中心內除了有可容納40人的會議室和多至150人的活動場地之外，同時也有提供會員使用的娛樂空間和籃球機。在空間設計上選用自然資源，在台北繁忙的都市生活中展現大自然的本質與元素。 ]                                                                                                                                                                                                                                                                                                                                          \n",
       "1  [JustCo宏泰金融大樓位於台北市松山區的黃金地段，周邊公共交通便利，鄰近銀行、健身中心、百貨公司、咖啡廳和餐廳等現代化便利設施，生活及商業機能完善。走進佔地廣達1700坪的宏泰金融大樓JustCo中心，迎面而來的是寬敞的兩層樓空間，可沿著充滿現代感的樓梯來去自如。本中心設有豪華氣派的社群公共區域，包含休息區、活動和娛樂空間，以及儲備豐富的食品儲藏室，所有會員都能自由使用。中心內部不僅擁有日光充沛、裝潢時尚的工作空間與會議室，還提供隱蔽的私人電話亭，完美地展現了舒適優質的辦公環境。此外，舒適且醒目的接待區、無可比擬的齊全設備，皆可讓會員在定期舉辦的精彩活動和網路會議中體驗美好交流時光，激發出創新靈感的火花。 ]                                                                                                                                                                                                                                     \n",
       "2  [2022年全新時尚裝潢，全新視覺享受, 安格斯國際商務中心, 千萬裝潢打造五星級商務辦公空間，寬敞舒適的空間規劃，是您的辦公室首選！, 1)  2-11人各種辦公空間需求一應俱全。, 2)  鄰近捷運南京復興及忠孝復興站，交通便利。, 3)  專屬OA辦公家具及高速Wi-Fi光纖網路，只需帶著筆電腦即可進駐辦公。, 4)  因應疫情發展裝設商用空氣清淨器，守護每一口呼吸的品質。, 5)  供應茶水、總機電話轉接、多功能事務區、信件包裹及快遞代收、24小時門禁管控。, 6)  周邊金融機構林立，鄰近微風百貨商圈，遼寧夜市商圈，生活機能超棒。, 看到這裡該手刀預約了吧！歡迎來電洽詢預約參觀↓, 聯絡人：李小姐, LINE ID：@418lbpys, 聯絡電話：(02)2771-6887, 地址：105台北市松山區復興北路1號10樓,  ]                                                                                                                                                                      \n",
       "3  [巴菲特國際商務中心 , 交通最便利, 地處全台交通核心台北車站前,高鐵台鐵台北轉運站,南來北往最方便, 捷運台北車站站前地下街Z8出口旁,桃園機場捷運步行3分鐘就到, 汽車停車場就在隔壁, 小吃餐飲銅板價、各家銀行及營業到21:00的北門郵局都是散步10分鐘範圍內, 人臉門禁系統最安全, 人臉辨識門禁管制,7天24小時安心進出,個人辦公室卡片感應門鎖,全天候中興保全全區保障,領先業界投保國泰產物保險公共意外責任險, 費用最實惠, 物超所值,空間最彈性,獨立小型辦公室 (2人 / 3人 / 4人 / 6人 / 8人),單人座位樣樣俱全,配合公司規模成長,彈性調整租用空間,專業會議室,適合舉辦各類會議, 專屬變頻空調, 獨立專屬冷暖變頻空調,自行設定最舒適的溫度。獨立智慧電表,電費用多少算多少,最實惠, 其他福利, 有線 / 無線高速網路, 現磨星巴克咖啡、茶包無限享用,貼心提供小茶點, 最新福利, 已經與台北喜來登大飯店、君品酒店、台北世民酒店、及旅樂序精品旅館簽訂企業方案,所有本中心客戶預約入住,皆可享有專案優惠,讓您的團隊成員和您的貴賓,都可以享受與國際級大型企業同樣等級的尊榮服務。, 歡迎預約參觀, 歡迎留言詢價,我們將立即回覆安排預約參觀!,  ]   \n",
       "4  [Spaces創立於阿姆斯特丹，秉承以成功孕育更大成功之理念，我們為您提供獨具創業精神的創意工作環境，並與您一起重新定義工作方式。這就是為什麼我們的社區群組能聚集大量思想家、成功人士和富極具創意之士。汲取我們的商業能量，助您的事業蒸蒸日上。Spaces遍及全球超過400個地點，台灣更於台北及新竹設有3個服務地點。我們為你提供私人辦公室、共享辦公空間、會議室及虛擬辦公室等靈活辦公方案。, 一價全包辦公空間包含：商務級 WiFi、舒適的辦公室傢俱、前台、信件收發、後勤支持、茶水間、水電及清理、商務多功能印表機、掃描和影印機、會議室租用服務等。客戶更可享用全球Spaces超過400個商務俱樂部及Regus 3000 個商務貴賓室，於通勤時亦可在專業的環境辦公。, Spaces台灣官方帳號, Line ID: @spaces_workspace, Facebook: @spaces.taiwan, Instagram: @spacestaiwan, LinkedIn: @spaces-taiwan,  ]                                                                                    \n",
       "\n",
       "                                                                                                                                                                                                                                                                                                                                                                                                                                   商家服務  \\\n",
       "0  [JustCo提供彈性的會員方案，小至工商登記服務、共用辦公桌，大至客製化企業辦公室，能滿足個人工作者、新創團隊、中小企業和跨國企業對辦公空間的各種需求。JustCo舒適、寬敞的空間內同時提供各種大小的會議室和活動場地，適合公司行號舉辦各式會議、研討會、產品發佈會和社群活動。]                                                                                                                                                                                                                                                                                            \n",
       "1  [JustCo提供彈性的會員方案，小至工商登記服務、共用辦公桌，大至客製化企業辦公室，能滿足個人工作者、新創團隊、中小企業和跨國企業對辦公空間的各種需求。JustCo舒適、寬敞的空間內同時提供各種大小的會議室和活動場地，適合公司行號舉辦各式會議、研討會、產品發佈會和社群活動。]                                                                                                                                                                                                                                                                                            \n",
       "2  [1)獨立辦公環境 : 提供2至11人多元房型，可依您需求自由選擇搭配。手續辦好帶著電腦，立馬擁有全新打造的超舒適辦公空間。, 2)借址登記:位於台北松山區，入駐馬上擁有台北黃金門牌。, 3)會議室:提供多種商務型會議室組合，適合8-50人等不同型態會議活動場地需求，會議室備有85吋 4K 顯示器、全球智能視訊解決方案組合、專業超高頻MIRPO無線麥克風、精品木箱喇叭、影機及屏幕、有線/無線網路、免費咖啡茶水供應。, 4)共享空間:窗邊美景放鬆區、長形開放工作檯、舒適沙發洽談區。, 5)交通方便:大樓安全警衛，方便24小時安心進出；樓上商務中心大門、廁所刷卡門禁，三重防護讓您辦公安全安心。, 6)貼心小服務:, 1.OA辦公室設備齊全, 2.專人環境清潔打掃暨定期消毒, 3.獨立感應磁卡門禁, 4.貼心茶水、咖啡機、會議室、報章雜誌, 5.提供多功能事務機, 6.中央空調系統、中華電信高速光纖上網, 7.親切給人溫暖的秘書服務]   \n",
       "3  [小型辦公室,  單人共享辦公室,  2~8人獨立辦公室, 工商登記、立即入主台北市, 黃金地址 郵件快遞代收代寄 (費用另計、實報實銷) ,  ========================= , 巴菲特國際商務中心 (台北車站前 商務中心首選), 台北市中正區忠孝西路一段72號2樓(請搭電梯上樓) , 02 2768** - 請找簡小姐 ]                                                                                                                                                                                                                                                         \n",
       "4  [Spaces 宏盛 IFC 位於台北市中心，座落於中山區獲得綠建築認證的最新大樓，是全新且充滿活力的工作環境。無論您是在尋找辦公室空間、會議室，抑或一個邊為筆電充電邊工作的地方，您都會覺得如居家般舒適。我們的高速WiFi 能讓您快速且高效地工作，並可隨時加入匯集志同道合專業人士的社群。, Spaces宏盛 IFC提供私人辦公室、共享辦公空間、會議室及虛擬辦公室。中心橫跨三個樓層，一及二樓設有超大共享空間500平方米提供舒適工作體驗,由歐洲專業團隊設計以及配備歐洲進口傢俱，而我們親切及專業中心團隊更提供各項專業服務，具備中英日文語言能力。 ]                                                                                                                                                     \n",
       "\n",
       "                                                                                                                                                                                                              商務中心價格  \\\n",
       "0  [商務中心價格, ➤ 借址登記, - 3,000+, ➤ 客製化辦公室, - 報價, ➤ 異地備援辦公, - 報價, ➤ 辦公室攝影棚, - 報價, ➤ 虛擬辦公室, - 3,500+, ➤ 10+人小型辦公室, - 60,000+, ➤ 6~10人小型辦公室, - 40,000+, ➤ 3+1人小型辦公室, - 30,000+, ➤ 1人共享辦公室, - 5,000+, ➤ 2人小型辦公室, - 20,000+]   \n",
       "1  [商務中心價格, ➤ 借址登記, - 3,000+, ➤ 客製化辦公室, - 報價, ➤ 異地備援辦公, - 報價, ➤ 辦公室攝影棚, - 報價, ➤ 虛擬辦公室, - 3,500+, ➤ 10+人小型辦公室, - 60,000+, ➤ 6~10人小型辦公室, - 40,000+, ➤ 3+1人小型辦公室, - 30,000+, ➤ 1人共享辦公室, - 5,000+, ➤ 2人小型辦公室, - 20,000+]   \n",
       "2  [商務中心價格, ➤ 虛擬辦公室, (2500/月（含稅）), ➤ 2人小型辦公室, (請洽詢), ➤ 1人共享辦公室, (請洽詢), ➤ 3+1人小型辦公室, (請洽詢), ➤ 6~10人小型辦公室, (請洽詢), ➤ 10+人小型辦公室, (請洽詢)]                                                                                    \n",
       "3  [商務中心價格, ➤ 2人小型辦公室, (11,000起), ➤ 3+1人小型辦公室, (18,500起), ➤ 借址登記, (2,000起), ➤ 虛擬辦公室, (2,000起), ➤ 6~10人小型辦公室, (24,000起), ➤ 1人共享辦公室, (4,000起), ➤ 客製化辦公室, (視實際情形決定), ➤ 10+人小型辦公室, (視實際情形決定)]                              \n",
       "4  [商務中心價格, ➤ 借址登記, - 3,000+, ➤ 客製化辦公室, - 報價, ➤ 異地備援辦公, - 報價, ➤ 辦公室攝影棚, - 報價, ➤ 虛擬辦公室, - 3,500+, ➤ 10+人小型辦公室, - 60,000+, ➤ 6~10人小型辦公室, - 40,000+, ➤ 3+1人小型辦公室, - 30,000+, ➤ 1人共享辦公室, - 5,000+, ➤ 2人小型辦公室, - 20,000+]   \n",
       "\n",
       "                                                                                              設備  \n",
       "0  [設備, WiFi, 辦公桌椅, 投影機, 影印機, 茶水間, 門禁管理, 置物櫃, 3D列印機, 語音秘書, 冰箱, 沙發, 白板, 麥克風, 總機系統, 書報雜誌, 電話, 掃描機]  \n",
       "1  [設備, WiFi, 辦公桌椅, 投影機, 影印機, 茶水間, 門禁管理, 置物櫃, 3D列印機, 語音秘書, 冰箱, 沙發, 白板, 麥克風, 總機系統, 書報雜誌, 電話, 掃描機]  \n",
       "2  [設備, WiFi, 辦公桌椅, 投影機, 影印機, 茶水間, 門禁管理, 冰箱, 沙發, 麥克風, 總機系統, 書報雜誌, 電話, 掃描機]                        \n",
       "3  [設備, WiFi, 辦公桌椅, 投影機, 影印機, 茶水間, 門禁管理, 置物櫃, 冰箱, 沙發, 白板, 書報雜誌, 電話, 掃描機]                          \n",
       "4  [設備, WiFi, 辦公桌椅, 投影機, 影印機, 茶水間, 門禁管理, 置物櫃, 冰箱, 沙發, 白板, 麥克風, 總機系統, 書報雜誌, 電話, 掃描機]               "
      ]
     },
     "execution_count": 35,
     "metadata": {},
     "output_type": "execute_result"
    }
   ],
   "source": [
    "info_col = ['商家名稱','商家介紹','商家服務','商務中心價格','設備']\n",
    "df_all = pd.DataFrame(columns=info_col)\n",
    "for i in range(5):\n",
    "    df = pd.DataFrame(total_info[i], columns=info_col)\n",
    "    df_all = pd.concat([df_all,df], axis=0, ignore_index=True)\n",
    "\n",
    "df_all"
   ]
  },
  {
   "cell_type": "code",
   "execution_count": 38,
   "id": "99df7440",
   "metadata": {},
   "outputs": [],
   "source": [
    "df_all.to_csv('商務中心資料.csv', encoding='utf-8-sig')"
   ]
  }
 ],
 "metadata": {
  "kernelspec": {
   "display_name": "Python 3 (ipykernel)",
   "language": "python",
   "name": "python3"
  },
  "language_info": {
   "codemirror_mode": {
    "name": "ipython",
    "version": 3
   },
   "file_extension": ".py",
   "mimetype": "text/x-python",
   "name": "python",
   "nbconvert_exporter": "python",
   "pygments_lexer": "ipython3",
   "version": "3.7.6"
  }
 },
 "nbformat": 4,
 "nbformat_minor": 5
}
